{
 "cells": [
  {
   "cell_type": "markdown",
   "metadata": {},
   "source": [
    "# Integral Monte Carlo Computation"
   ]
  },
  {
   "cell_type": "code",
   "execution_count": 1,
   "metadata": {},
   "outputs": [],
   "source": [
    "#!/usr/bin/env python\n",
    "from datetime import datetime\n",
    "from random import uniform\n",
    "import numpy as np\n",
    "import pythran"
   ]
  },
  {
   "cell_type": "code",
   "execution_count": 2,
   "metadata": {},
   "outputs": [
    {
     "name": "stdout",
     "output_type": "stream",
     "text": [
      "> Simple Monte Carlo :: Iterations:10000000 :: Volume: 22.09 :: TimeToProcess: 15.22\n"
     ]
    }
   ],
   "source": [
    "def integral_monte_carlo(n_total, log=False):\n",
    "    # Init Monte Carlo Work\n",
    "    now = datetime.now()\n",
    "\n",
    "    # Configure Limit of Integration\n",
    "    lim_x_min = 1\n",
    "    lim_x_max = 4\n",
    "    lim_y_min = -3\n",
    "    lim_y_max = 4\n",
    "    lim_z_min = -2\n",
    "    lim_z_max = 2\n",
    "\n",
    "    # Calculate part of Monte Carlo\n",
    "    n_fig = 0\n",
    "    for i in range(0, n_total):\n",
    "        x_random = uniform(lim_x_min, lim_x_max)\n",
    "        y_random = uniform(lim_y_min, lim_y_max)\n",
    "        z_random = uniform(lim_z_min, lim_z_max)\n",
    "\n",
    "        toroid = z_random ** 2 + ((x_random ** 2 + y_random ** 2) ** 0.5 - 3) ** 2\n",
    "        if (x_random > 1) and (y_random >= -3) and (toroid <= 1):\n",
    "            n_fig += 1\n",
    "\n",
    "    # Calculate volume of figure\n",
    "    v_total = (lim_x_max - lim_x_min) * (lim_y_max - lim_y_min) * (lim_z_max - lim_z_min)\n",
    "    v_figura = round(v_total * (n_fig / float(n_total)), 2)\n",
    "\n",
    "    # End Monte Carlo Work\n",
    "    time_process = round((datetime.now() - now).total_seconds(), 2)\n",
    "    \n",
    "    if(log == True):\n",
    "        print(\"> Simple Monte Carlo :: Iterations:%s :: Volume: %s :: TimeToProcess: %s\" %(n_total, v_figura, time_process))\n",
    "integral_monte_carlo(10000000, True)"
   ]
  },
  {
   "cell_type": "code",
   "execution_count": 3,
   "metadata": {},
   "outputs": [
    {
     "name": "stdout",
     "output_type": "stream",
     "text": [
      "759 ms ± 14.2 ms per loop (mean ± std. dev. of 7 runs, 1 loop each)\n"
     ]
    }
   ],
   "source": [
    "%timeit integral_monte_carlo(500000)"
   ]
  },
  {
   "cell_type": "code",
   "execution_count": 4,
   "metadata": {},
   "outputs": [],
   "source": [
    "%load_ext pythran.magic"
   ]
  },
  {
   "cell_type": "code",
   "execution_count": 5,
   "metadata": {},
   "outputs": [],
   "source": [
    "%%pythran -fopenmp\n",
    "#pythran export integral_monte_carlo_pythran_omp(int)\n",
    "import numpy as np\n",
    "from random import uniform\n",
    "def integral_monte_carlo_pythran_omp(n_total):\n",
    "    # Configure Limit of Integration\n",
    "    lim_x_min = 1\n",
    "    lim_x_max = 4\n",
    "    lim_y_min = -3\n",
    "    lim_y_max = 4\n",
    "    lim_z_min = -2\n",
    "    lim_z_max = 2\n",
    "    \n",
    "    n_fig = 0\n",
    "    #omp parallel for reduction(+:n_fig)\n",
    "    for i in range(0, n_total):\n",
    "        x_random = uniform(lim_x_min, lim_x_max)\n",
    "        y_random = uniform(lim_y_min, lim_y_max)\n",
    "        z_random = uniform(lim_z_min, lim_z_max)\n",
    "\n",
    "        toroid = z_random ** 2 + ((x_random ** 2 + y_random ** 2) ** 0.5 - 3) ** 2\n",
    "        if (x_random > 1) and (y_random >= -3) and (toroid <= 1):\n",
    "            n_fig += 1\n",
    "    # Calculate volume of figure\n",
    "    v_total = (lim_x_max - lim_x_min) * (lim_y_max - lim_y_min) * (lim_z_max - lim_z_min)\n",
    "    v_figura = round(v_total * (n_fig / float(n_total)), 2)\n",
    "        \n",
    "    return v_figura"
   ]
  },
  {
   "cell_type": "code",
   "execution_count": 6,
   "metadata": {},
   "outputs": [
    {
     "name": "stdout",
     "output_type": "stream",
     "text": [
      "63.9 ms ± 824 µs per loop (mean ± std. dev. of 7 runs, 10 loops each)\n"
     ]
    }
   ],
   "source": [
    "%timeit integral_monte_carlo_pythran_omp(500000)"
   ]
  },
  {
   "cell_type": "code",
   "execution_count": 7,
   "metadata": {},
   "outputs": [
    {
     "name": "stdout",
     "output_type": "stream",
     "text": [
      "Time: 1.29 :: Integral: 22.11\n"
     ]
    }
   ],
   "source": [
    "# Init Monte Carlo Work\n",
    "now = datetime.now()\n",
    "\n",
    "#Process Integral\n",
    "integral = integral_monte_carlo_pythran_omp(10000000)\n",
    "\n",
    "# End Monte Carlo Work\n",
    "time_process = round((datetime.now() - now).total_seconds(), 2)\n",
    "\n",
    "print(\"Time: %s :: Integral: %s\" %(time_process, integral))"
   ]
  },
  {
   "cell_type": "code",
   "execution_count": null,
   "metadata": {},
   "outputs": [],
   "source": []
  }
 ],
 "metadata": {
  "kernelspec": {
   "display_name": "Python 3",
   "language": "python",
   "name": "python3"
  },
  "language_info": {
   "codemirror_mode": {
    "name": "ipython",
    "version": 3
   },
   "file_extension": ".py",
   "mimetype": "text/x-python",
   "name": "python",
   "nbconvert_exporter": "python",
   "pygments_lexer": "ipython3",
   "version": "3.6.5"
  }
 },
 "nbformat": 4,
 "nbformat_minor": 1
}
